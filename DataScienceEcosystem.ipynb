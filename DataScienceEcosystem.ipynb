{
 "cells": [
  {
   "cell_type": "markdown",
   "id": "cb65c8a6",
   "metadata": {},
   "source": [
    "# Data Science Tools and Ecosystem"
   ]
  },
  {
   "cell_type": "markdown",
   "id": "e39db6f4",
   "metadata": {},
   "source": [
    "### In this notebook, data Science Tools and Ecosystem are summarized"
   ]
  },
  {
   "cell_type": "markdown",
   "id": "48c3a162",
   "metadata": {},
   "source": [
    "### Some of the popular languages that Data Scientists use are:\n",
    "1. Python\n",
    "2. R\n",
    "3. SQL"
   ]
  },
  {
   "cell_type": "markdown",
   "id": "98bf023d",
   "metadata": {},
   "source": [
    "### Some of the commonly used libraries used by Data Scientists include:\n",
    "1. Scikit-learn\n",
    "2. TensorFlow\n",
    "3. Apache Spark"
   ]
  },
  {
   "cell_type": "markdown",
   "id": "82cdc4ab",
   "metadata": {},
   "source": [
    "|Data Science Tools     |\n",
    "|:----------------------|\n",
    "|Jupyter Notebook       |\n",
    "|APIs                   |\n",
    "|IBM Data Asset eXchange|"
   ]
  },
  {
   "cell_type": "markdown",
   "id": "5607e0ea",
   "metadata": {},
   "source": [
    "### Below are a few examples of evaluating arithmetic expressions in Python"
   ]
  },
  {
   "cell_type": "code",
   "execution_count": 4,
   "id": "5c7829e2",
   "metadata": {},
   "outputs": [
    {
     "data": {
      "text/plain": [
       "17"
      ]
     },
     "execution_count": 4,
     "metadata": {},
     "output_type": "execute_result"
    }
   ],
   "source": [
    "#This a simple arithmetic expression to mutiply then add integers\n",
    "(3 * 4) + 5"
   ]
  },
  {
   "cell_type": "code",
   "execution_count": 6,
   "id": "f07e149e",
   "metadata": {},
   "outputs": [
    {
     "name": "stdout",
     "output_type": "stream",
     "text": [
      "3.3333333333333335\n"
     ]
    }
   ],
   "source": [
    "#This will convert 200 minutes to hours by diving by 60\n",
    "mins = 200\n",
    "hours = mins / 60.0\n",
    "print(hours)"
   ]
  },
  {
   "cell_type": "markdown",
   "id": "d1fbdc96",
   "metadata": {},
   "source": [
    "**Objectives:**\n",
    "- List popular languages for Data Science\n",
    "- List popular libraries for Data Science\n",
    "- Demonstrate arithmetic expressions in Python"
   ]
  },
  {
   "cell_type": "markdown",
   "id": "262d20c8",
   "metadata": {},
   "source": [
    "## Author\n",
    "Bill Zhou"
   ]
  }
 ],
 "metadata": {
  "kernelspec": {
   "display_name": "Python 3 (ipykernel)",
   "language": "python",
   "name": "python3"
  },
  "language_info": {
   "codemirror_mode": {
    "name": "ipython",
    "version": 3
   },
   "file_extension": ".py",
   "mimetype": "text/x-python",
   "name": "python",
   "nbconvert_exporter": "python",
   "pygments_lexer": "ipython3",
   "version": "3.11.5"
  }
 },
 "nbformat": 4,
 "nbformat_minor": 5
}
